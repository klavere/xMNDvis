{
 "cells": [
  {
   "cell_type": "markdown",
   "metadata": {},
   "source": [
    "# Flowcycle Visualizations\n",
    "with matplotlib"
   ]
  },
  {
   "cell_type": "markdown",
   "metadata": {},
   "source": [
    "##### Generating Temporal Plots\n",
    "This notebook includes the code for **visualizations 2, 3 and 4**.\n",
    "It uses the *matplotlib* package to generate the plots for visualizations **3 and 4** from **cycledf.csv**.\n",
    "**Visualization 2** is generated using the heatmap-function from the *seaborn* package.\n",
    "Separate functions are written for the horizontal and the circular versions of visualizations **3 and 4** and a third function to choose between the two, depending on the chosen parameters.\n",
    "Within the plotting functions, the datasets are filtered and aggregated according to the chosen filter options.\n",
    "\n",
    "##### Versions of the used packages:\n",
    "- pandas: 0.24.2\n",
    "- numpy: 1.16.4\n",
    "- matplotlib: 3.2.1\n",
    "- seaborn: 0.9.0\n",
    "- ipywidgets: 7.5.1"
   ]
  },
  {
   "cell_type": "code",
   "execution_count": 1,
   "metadata": {},
   "outputs": [],
   "source": [
    "import pandas as pd\n",
    "import matplotlib.pyplot as plt\n",
    "from math import pi\n",
    "import numpy as np\n",
    "import ipywidgets as pyw"
   ]
  },
  {
   "cell_type": "code",
   "execution_count": 2,
   "metadata": {},
   "outputs": [],
   "source": [
    "def csvtodf_SC(path):\n",
    "    data = pd.read_csv('data/'+path+'.csv',\n",
    "                       delimiter=';',\n",
    "                       skipinitialspace=True,\n",
    "                       skiprows=0)\n",
    "    df = pd.DataFrame(data)\n",
    "    return df;\n",
    "\n",
    "def csvtodf_C(path):\n",
    "    data = pd.read_csv('data/'+path+'.csv',\n",
    "                       delimiter=',',\n",
    "                       skipinitialspace=True,\n",
    "                       skiprows=0)\n",
    "    df = pd.DataFrame(data)\n",
    "    return df;"
   ]
  },
  {
   "cell_type": "markdown",
   "metadata": {},
   "source": [
    "## load data\n",
    "processed in 24.0"
   ]
  },
  {
   "cell_type": "code",
   "execution_count": 3,
   "metadata": {},
   "outputs": [
    {
     "data": {
      "text/html": [
       "<div>\n",
       "<style scoped>\n",
       "    .dataframe tbody tr th:only-of-type {\n",
       "        vertical-align: middle;\n",
       "    }\n",
       "\n",
       "    .dataframe tbody tr th {\n",
       "        vertical-align: top;\n",
       "    }\n",
       "\n",
       "    .dataframe thead th {\n",
       "        text-align: right;\n",
       "    }\n",
       "</style>\n",
       "<table border=\"1\" class=\"dataframe\">\n",
       "  <thead>\n",
       "    <tr style=\"text-align: right;\">\n",
       "      <th></th>\n",
       "      <th>flowID</th>\n",
       "      <th>flowIdDir</th>\n",
       "      <th>from_cell</th>\n",
       "      <th>to_cell</th>\n",
       "      <th>dayInt</th>\n",
       "      <th>weekday</th>\n",
       "      <th>dayType</th>\n",
       "      <th>hour</th>\n",
       "      <th>moves</th>\n",
       "      <th>privat</th>\n",
       "      <th>public</th>\n",
       "      <th>Rail</th>\n",
       "      <th>UBahn</th>\n",
       "      <th>Tram</th>\n",
       "      <th>Bus</th>\n",
       "    </tr>\n",
       "  </thead>\n",
       "  <tbody>\n",
       "    <tr>\n",
       "      <th>0</th>\n",
       "      <td>100_101</td>\n",
       "      <td>-1</td>\n",
       "      <td>101</td>\n",
       "      <td>100</td>\n",
       "      <td>0</td>\n",
       "      <td>Monday</td>\n",
       "      <td>MonThu</td>\n",
       "      <td>4</td>\n",
       "      <td>1</td>\n",
       "      <td>1.0</td>\n",
       "      <td>0.0</td>\n",
       "      <td>0.0</td>\n",
       "      <td>0.0</td>\n",
       "      <td>0.0</td>\n",
       "      <td>0.0</td>\n",
       "    </tr>\n",
       "    <tr>\n",
       "      <th>1</th>\n",
       "      <td>100_101</td>\n",
       "      <td>-1</td>\n",
       "      <td>101</td>\n",
       "      <td>100</td>\n",
       "      <td>0</td>\n",
       "      <td>Monday</td>\n",
       "      <td>MonThu</td>\n",
       "      <td>15</td>\n",
       "      <td>1</td>\n",
       "      <td>1.0</td>\n",
       "      <td>0.0</td>\n",
       "      <td>0.0</td>\n",
       "      <td>0.0</td>\n",
       "      <td>0.0</td>\n",
       "      <td>0.0</td>\n",
       "    </tr>\n",
       "    <tr>\n",
       "      <th>2</th>\n",
       "      <td>100_101</td>\n",
       "      <td>-1</td>\n",
       "      <td>101</td>\n",
       "      <td>100</td>\n",
       "      <td>1</td>\n",
       "      <td>Tuesday</td>\n",
       "      <td>MonThu</td>\n",
       "      <td>4</td>\n",
       "      <td>1</td>\n",
       "      <td>1.0</td>\n",
       "      <td>0.0</td>\n",
       "      <td>0.0</td>\n",
       "      <td>0.0</td>\n",
       "      <td>0.0</td>\n",
       "      <td>0.0</td>\n",
       "    </tr>\n",
       "    <tr>\n",
       "      <th>3</th>\n",
       "      <td>100_101</td>\n",
       "      <td>-1</td>\n",
       "      <td>101</td>\n",
       "      <td>100</td>\n",
       "      <td>1</td>\n",
       "      <td>Tuesday</td>\n",
       "      <td>MonThu</td>\n",
       "      <td>5</td>\n",
       "      <td>1</td>\n",
       "      <td>1.0</td>\n",
       "      <td>0.0</td>\n",
       "      <td>0.0</td>\n",
       "      <td>0.0</td>\n",
       "      <td>0.0</td>\n",
       "      <td>0.0</td>\n",
       "    </tr>\n",
       "    <tr>\n",
       "      <th>4</th>\n",
       "      <td>100_101</td>\n",
       "      <td>-1</td>\n",
       "      <td>101</td>\n",
       "      <td>100</td>\n",
       "      <td>1</td>\n",
       "      <td>Tuesday</td>\n",
       "      <td>MonThu</td>\n",
       "      <td>6</td>\n",
       "      <td>1</td>\n",
       "      <td>1.0</td>\n",
       "      <td>0.0</td>\n",
       "      <td>0.0</td>\n",
       "      <td>0.0</td>\n",
       "      <td>0.0</td>\n",
       "      <td>0.0</td>\n",
       "    </tr>\n",
       "  </tbody>\n",
       "</table>\n",
       "</div>"
      ],
      "text/plain": [
       "    flowID  flowIdDir  from_cell  to_cell  dayInt  weekday dayType  hour  \\\n",
       "0  100_101         -1        101      100       0   Monday  MonThu     4   \n",
       "1  100_101         -1        101      100       0   Monday  MonThu    15   \n",
       "2  100_101         -1        101      100       1  Tuesday  MonThu     4   \n",
       "3  100_101         -1        101      100       1  Tuesday  MonThu     5   \n",
       "4  100_101         -1        101      100       1  Tuesday  MonThu     6   \n",
       "\n",
       "   moves  privat  public  Rail  UBahn  Tram  Bus  \n",
       "0      1     1.0     0.0   0.0    0.0   0.0  0.0  \n",
       "1      1     1.0     0.0   0.0    0.0   0.0  0.0  \n",
       "2      1     1.0     0.0   0.0    0.0   0.0  0.0  \n",
       "3      1     1.0     0.0   0.0    0.0   0.0  0.0  \n",
       "4      1     1.0     0.0   0.0    0.0   0.0  0.0  "
      ]
     },
     "execution_count": 3,
     "metadata": {},
     "output_type": "execute_result"
    }
   ],
   "source": [
    "cycledf = csvtodf_SC('flows_with_mode/aggregations/cycledf')\n",
    "cycledf.head()"
   ]
  },
  {
   "cell_type": "markdown",
   "metadata": {},
   "source": [
    "## set constant parameters"
   ]
  },
  {
   "cell_type": "code",
   "execution_count": 4,
   "metadata": {},
   "outputs": [],
   "source": [
    "days = ['', 'Monday', 'Tuesday', 'Wednesday', 'Thursday', 'Friday', 'Saturday', 'Sunday']\n",
    "dayTypes = ['', 'MonThu', 'Fri', 'Weekend']\n",
    "\n",
    "modes = ['moves', 'privat', 'public', 'Rail', 'UBahn', 'Tram', 'Bus']\n",
    "modesPlt = ['', 'privat', 'public']\n",
    "# meanModes = ['']*7\n",
    "# for i in range(0,7):\n",
    "#     meanModes[i] = 'mean'+modes[i]\n",
    "\n",
    "modesColor = {'privat':'#BFBFBF',#'#999999',\n",
    "              'Rail':'#4daf4a',\n",
    "              'UBahn':'#377eb8',\n",
    "              'Tram':'#e41a1c',\n",
    "              'Bus':'#984ea3',\n",
    "              'public':'#ff7f00', # '#ff7f00',\n",
    "              'moves':'#a65628'} # '#FFFFFF'}\n",
    "# including ColorBrewer Colors from: https://colorbrewer2.org/#type=qualitative&scheme=Set1&n=9\n",
    "\n",
    "d = {}\n",
    "modesAggMean = dict((key, ['mean']) for key in modes)\n",
    "modesAggSum = dict((key, ['sum']) for key in modes)\n",
    "\n",
    "hours = [0, 1, 2, 3, 4, 5, 6, 7, 8, 9, 10, 11, 12, 13, 14, 15, 16, 17, 18, 19, 20, 21, 22, 23]\n",
    "ticks = hours.copy()\n",
    "for i in range(0,24):\n",
    "    ticks[i] = hours[i]*(360/24)*pi/180\n",
    "\n",
    "# for horizontal plotting:\n",
    "def moveMidnight2List(lst):\n",
    "    lst.append(lst.pop(0))\n",
    "    lst.append(lst.pop(0))\n",
    "    return lst;\n",
    "hours = [2, 3, 4, 5, 6, 7, 8, 9, 10, 11, 12, 13, 14, 15, 16, 17, 18, 19, 20, 21, 22, 23, 24, 1, 2]\n",
    "ticksPos = [-.5,.5,1.5,2.5,3.5,4.5,5.5,6.5,7.5,8.5,9.5,10.5,11.5,12.5,13.5,14.5,15.5,16.5,17.5,18.5,19.5,20.5,21.5,22.5,23.5]\n",
    "\n",
    "weekangles = [0]*7\n",
    "for i in range(0,7):\n",
    "    weekangles[i] = (i*360/7)*pi/180"
   ]
  },
  {
   "cell_type": "markdown",
   "metadata": {},
   "source": [
    "## plotting function for circular plot"
   ]
  },
  {
   "cell_type": "code",
   "execution_count": 5,
   "metadata": {},
   "outputs": [],
   "source": [
    "def plotDayStackedCircular(day='', dayType='', modesPlt=''):\n",
    "    \n",
    "    # aggregate cycledf according to filter choices for day and dayType, mean over days and dayTypes for each flowID and direction\n",
    "    d.update(modesAggMean)\n",
    "    if (day):\n",
    "        plotdf = cycledf[(cycledf.weekday == day)].groupby(['flowID', 'flowIdDir', 'hour']).agg(d).copy().reset_index()\n",
    "        plotdf.columns = plotdf.columns.get_level_values(0)\n",
    "    elif (dayType):\n",
    "        plotdf = cycledf[(cycledf.dayType == dayType)].groupby(['flowID', 'flowIdDir', 'hour']).agg(d).copy().reset_index()\n",
    "        plotdf.columns = plotdf.columns.get_level_values(0)\n",
    "    else:\n",
    "        plotdf = cycledf.groupby(['flowID', 'flowIdDir', 'hour']).agg(d).copy().reset_index()\n",
    "        plotdf.columns = plotdf.columns.get_level_values(0)\n",
    "    \n",
    "    # sum over flowIDs and flowIDdir\n",
    "    d.update(modesAggSum)\n",
    "    plotdf = plotdf.groupby(['hour']).agg(d).copy().reset_index()\n",
    "    plotdf.columns = plotdf.columns.get_level_values(0)\n",
    "    \n",
    "    # initialize plot\n",
    "    fig = plt.figure(figsize=(8, 8))\n",
    "    ax = fig.add_subplot(111, projection='polar')\n",
    "    ax.set_theta_direction(-1)\n",
    "    ax.set_theta_offset(-pi)\n",
    "    ax.set_rlabel_position(90)\n",
    "    ax.yaxis.grid(linestyle = (0,(1,5)))\n",
    "    ax.spines['polar'].set_visible(False)\n",
    "    \n",
    "    angles = list(plotdf.hour*(360/24)*pi/180+(pi/24))\n",
    "    categories=list(plotdf.hour)\n",
    "    plt.xticks(ticks, categories, color='grey', size=8)\n",
    "    \n",
    "    width=pi/13\n",
    "    alpha=1 \n",
    "    \n",
    "    values = []\n",
    "    if (modesPlt == 'privat'):\n",
    "        values = list(plotdf.privat)\n",
    "        # meanValues = np.mean(values) if values else 0\n",
    "        maxValues = max(values) if values else 0\n",
    "        base = .6*maxValues\n",
    "    elif (modesPlt == 'public'):\n",
    "        values0 = [0]*24\n",
    "    else:\n",
    "        values0 = list(plotdf.privat)\n",
    "    \n",
    "    if(values): # only plot privates and return\n",
    "        ax.bar(angles, values, width=width, alpha=alpha, color=modesColor['privat'])   \n",
    "#         ax.add_artist(plt.Circle((0, 0), meanValues+base, transform=ax.transData._b,\n",
    "#                              fill=False, edgecolor='#404040', linewidth=1, alpha=1, zorder=10))\n",
    "        ax.add_artist(plt.Circle((0, 0), maxValues+base, transform=ax.transData._b,\n",
    "                             fill=False, edgecolor='#777777', linewidth=1, alpha=1, zorder=10))\n",
    "        ax.set_yticks([maxValues, .75*maxValues, .5*maxValues, .25*maxValues])\n",
    "        ax.set_yticklabels([int(maxValues),'','',''], color='#777777')\n",
    "        ax.set_rmin(-base)\n",
    "        return ax;\n",
    "    \n",
    "    else: # plot stacked bars, then return    \n",
    "        values1 = list(plotdf.Rail)\n",
    "        values2 = list(plotdf.Bus)\n",
    "        values3 = list(plotdf.UBahn)\n",
    "        values4 = list(plotdf.Tram)\n",
    "        values01 = np.add(values0, values1).tolist()\n",
    "        values012 = np.add(values01, values2).tolist()\n",
    "        values0123 = np.add(values012, values3).tolist()\n",
    "        values01234 = np.add(values0123, values4).tolist()\n",
    "\n",
    "        maxAll = max(values01234) if values01234 else 0\n",
    "        # meanAll = np.mean(values01234) if values01234 else 0\n",
    "        base = .6*maxAll\n",
    "\n",
    "        ax.bar(angles, values0, width=width, alpha=alpha, color=modesColor['privat'])   \n",
    "        ax.bar(angles, values1, width=width, alpha=alpha, color=modesColor['Rail'], bottom = values0)\n",
    "        ax.bar(angles, values2, width=width, alpha=alpha, color=modesColor['Bus'], bottom = values01)\n",
    "        ax.bar(angles, values3, width=width, alpha=alpha, color=modesColor['UBahn'], bottom = values012)\n",
    "        ax.bar(angles, values4, width=width, alpha=alpha, color=modesColor['Tram'], bottom = values0123)\n",
    "\n",
    "#         ax.add_artist(plt.Circle((0, 0), meanAll+base, transform=ax.transData._b,\n",
    "#                              fill=False, edgecolor='#404040', linewidth=1, alpha=1, zorder=10))\n",
    "        ax.add_artist(plt.Circle((0, 0), maxAll+base, transform=ax.transData._b,\n",
    "                             fill=False, edgecolor=modesColor['Tram'], linewidth=1, alpha=1, zorder=10))\n",
    "        ax.set_yticks([maxAll, .75*maxAll, .5*maxAll, .25*maxAll, ])\n",
    "        ax.set_yticklabels([str(int(maxAll/1000))+' Tsd','','',''], color=modesColor['Tram'])\n",
    "        ax.set_rmin(-base)\n",
    "        return ax;"
   ]
  },
  {
   "cell_type": "markdown",
   "metadata": {},
   "source": [
    "## plotting function for horizontal plot"
   ]
  },
  {
   "cell_type": "code",
   "execution_count": 6,
   "metadata": {},
   "outputs": [],
   "source": [
    "def plotDayStackedHorizontal(day='', dayType='', modesPlt=''):\n",
    "    # aggregate cycledf according to filter choices for day and dayType, mean over days and dayTypes for each flowID and direction\n",
    "    d.update(modesAggMean)\n",
    "    if (day):\n",
    "        plotdf = cycledf[(cycledf.weekday == day)].groupby(['flowID', 'flowIdDir', 'hour']).agg(d).copy().reset_index()\n",
    "        plotdf.columns = plotdf.columns.get_level_values(0)\n",
    "    elif (dayType):\n",
    "        plotdf = cycledf[(cycledf.dayType == dayType)].groupby(['flowID', 'flowIdDir', 'hour']).agg(d).copy().reset_index()\n",
    "        plotdf.columns = plotdf.columns.get_level_values(0)\n",
    "    else:\n",
    "        plotdf = cycledf.groupby(['flowID', 'flowIdDir', 'hour']).agg(d).copy().reset_index()\n",
    "        plotdf.columns = plotdf.columns.get_level_values(0)\n",
    "    \n",
    "    # sum over flowIDs and flowIDdir\n",
    "    d.update(modesAggSum)\n",
    "    plotdf = plotdf.groupby(['hour']).agg(d).copy().reset_index()\n",
    "    plotdf.columns = plotdf.columns.get_level_values(0)\n",
    "    \n",
    "    # initialize plot\n",
    "    fig = plt.figure(figsize=(12, 5))\n",
    "    ax = fig.add_subplot(111)\n",
    "    plt.yticks(color='#777777')\n",
    "    ax.yaxis.grid(linestyle = (0,(1,5)))\n",
    "    for spine in ['left','right','top']:\n",
    "        ax.spines[spine].set_visible(False)\n",
    "    ax.spines['bottom'].set_position('zero')\n",
    "    \n",
    "    ticks = list(plotdf.hour)\n",
    "    # ticksPos = (list(plotdf.hour-.5)+[23.5])\n",
    "    plt.xticks(ticksPos, hours, color='#777777', size=8)\n",
    "    plt.tick_params(axis='both', which='both', length=0)\n",
    "    \n",
    "    width=0.9\n",
    "    alpha=1 \n",
    "    \n",
    "    values = []\n",
    "    if (modesPlt == 'privat'):\n",
    "        values = list(plotdf.privat)\n",
    "        # meanValues = np.mean(values) if values else 0\n",
    "        maxValues = max(values) if values else 0\n",
    "    elif (modesPlt == 'public'):\n",
    "        negticks = []\n",
    "        negticklabels = []\n",
    "    else: # plot private values\n",
    "        values0 = moveMidnight2List(list(-plotdf.privat))\n",
    "        maxPriv = min(values0) if values0 else 0\n",
    "        base = .08*maxPriv\n",
    "        plt.axhline(y=maxPriv+base, color=modesColor['privat'], linewidth=1)\n",
    "        ax.bar(ticks, values0, width=width, alpha=alpha, color=modesColor['privat'], bottom = base)\n",
    "        negticks = [base, base+.25*maxPriv, base+.5*maxPriv, base+.75*maxPriv, base+maxPriv]\n",
    "        negticklabels = [0,'','','',str(int(-maxPriv/1000))+' Tsd']\n",
    "        ax.spines['bottom'].set_visible(False)\n",
    "    \n",
    "    if(values): # only plot privates and return\n",
    "        ax.bar(ticks, values, width=width, alpha=alpha, color=modesColor['privat'])\n",
    "        ax.set_yticks([maxValues, .75*maxValues, .5*maxValues, .25*maxValues, 0])\n",
    "        ax.set_yticklabels([str(int(maxValues/1000))+' Tsd','','','', 0], color='#777777')\n",
    "        plt.axhline(y=maxValues, color=modesColor['privat'], linewidth=1)\n",
    "        ax.spines['bottom'].set_linestyle((0,(1,5)))\n",
    "        ax.spines['bottom'].set_color('#777777')\n",
    "        return ax;\n",
    "    \n",
    "    else: # plot public values and return    \n",
    "        values1 = moveMidnight2List(list(plotdf.Rail))\n",
    "        values2 = moveMidnight2List(list(plotdf.Bus))\n",
    "        values3 = moveMidnight2List(list(plotdf.UBahn))\n",
    "        values4 = moveMidnight2List(list(plotdf.Tram))\n",
    "        values12 = np.add(values1, values2).tolist()\n",
    "        values123 = np.add(values12, values3).tolist()\n",
    "        values1234 = np.add(values123, values4).tolist()\n",
    "\n",
    "        maxAll = max(values1234) if values1234 else 0\n",
    "        # meanAll = np.mean(values01234) if values01234 else 0\n",
    "  \n",
    "        ax.bar(ticks, values1, width=width, alpha=alpha, color=modesColor['Rail'])\n",
    "        ax.bar(ticks, values2, width=width, alpha=alpha, color=modesColor['Bus'], bottom = values1)\n",
    "        ax.bar(ticks, values3, width=width, alpha=alpha, color=modesColor['UBahn'], bottom = values12)\n",
    "        ax.bar(ticks, values4, width=width, alpha=alpha, color=modesColor['Tram'], bottom = values123)\n",
    "        plt.axhline(y=maxAll, color=modesColor['Tram'], linewidth=1)\n",
    "        \n",
    "        ax.set_yticks([maxAll, .75*maxAll, .5*maxAll, .25*maxAll, 0]+negticks)\n",
    "        ax.set_yticklabels([str(int(maxAll/1000))+' Tsd','','','',0]+negticklabels, color=modesColor['Tram'])\n",
    "        ax.spines['bottom'].set_linestyle((0,(1,5)))\n",
    "        ax.spines['bottom'].set_color('#777777')\n",
    "        return ax;"
   ]
  },
  {
   "cell_type": "markdown",
   "metadata": {},
   "source": [
    "## function to choose between circular and horizontal"
   ]
  },
  {
   "cell_type": "code",
   "execution_count": 7,
   "metadata": {},
   "outputs": [],
   "source": [
    "def plotDay(day='', dayType='', modesPlt='', circular=True):\n",
    "    if(circular):\n",
    "        plotDayStackedCircular(day, dayType, modesPlt)\n",
    "    else:\n",
    "        plotDayStackedHorizontal(day, dayType, modesPlt)\n",
    "    return;"
   ]
  },
  {
   "cell_type": "code",
   "execution_count": 8,
   "metadata": {},
   "outputs": [
    {
     "data": {
      "application/vnd.jupyter.widget-view+json": {
       "model_id": "9f2d51ecbbc34c70b2d90ad679b5608c",
       "version_major": 2,
       "version_minor": 0
      },
      "text/plain": [
       "interactive(children=(Dropdown(description='day', options=('', 'Monday', 'Tuesday', 'Wednesday', 'Thursday', '…"
      ]
     },
     "metadata": {},
     "output_type": "display_data"
    },
    {
     "data": {
      "text/plain": [
       "<function __main__.plotDay(day='', dayType='', modesPlt='', circular=True)>"
      ]
     },
     "execution_count": 8,
     "metadata": {},
     "output_type": "execute_result"
    }
   ],
   "source": [
    "pyw.interact(plotDay, day=days, dayType=dayTypes, modesPlt=modesPlt)"
   ]
  },
  {
   "cell_type": "markdown",
   "metadata": {},
   "source": [
    "## function to plot modes for the whole week by weekday"
   ]
  },
  {
   "cell_type": "code",
   "execution_count": 9,
   "metadata": {},
   "outputs": [],
   "source": [
    "def plotWeek(modesPlt=''):\n",
    "    # aggregate cycledf over weekdays\n",
    "    d.update(modesAggSum)\n",
    "    plotdf = cycledf.groupby(['dayInt','weekday']).agg(d).copy().reset_index()\n",
    "    plotdf.columns = plotdf.columns.get_level_values(0)\n",
    "    \n",
    "    # initialize plot\n",
    "    fig = plt.figure(figsize=(6, 6))\n",
    "    ax = fig.add_subplot(111, projection='polar')\n",
    "    ax.set_theta_direction(-1)\n",
    "    ax.set_theta_offset(pi/2.0 - weekangles[1]) #/2.0\n",
    "    ax.set_rlabel_position(-360/7)\n",
    "    ax.yaxis.grid(linestyle = (0,(1,5)))\n",
    "    ax.spines['polar'].set_visible(False)\n",
    "    \n",
    "    categories=list(plotdf.weekday)\n",
    "    plt.xticks(weekangles, categories, color='grey', size=8)\n",
    "    \n",
    "    width=pi/3.6\n",
    "    alpha=1\n",
    "    \n",
    "    values = []\n",
    "    if (modesPlt == 'privat'):\n",
    "        values = list(plotdf.privat)\n",
    "        maxValues = max(values) if values else 0\n",
    "    elif (modesPlt == 'public'):\n",
    "        values0 = [0]*7\n",
    "    else:\n",
    "        values0 = list(plotdf.privat)\n",
    "    \n",
    "    if(values): # only plot privates and return\n",
    "        ax.bar(weekangles, values, width=width, alpha=alpha, color=modesColor['privat'])\n",
    "        ax.add_artist(plt.Circle((0, 0), maxValues, transform=ax.transData._b,\n",
    "                             fill=False, edgecolor='#777777', linewidth=1, alpha=1, zorder=10))\n",
    "        ax.set_yticks([maxValues, .75*maxValues, .5*maxValues, .25*maxValues])\n",
    "        if (maxValues>1000):\n",
    "            ax.set_yticklabels([str(np.round(maxValues/1000,decimals=1))+' Tsd','','',''], color='#777777')\n",
    "        else:\n",
    "            ax.set_yticklabels([str(np.int(maxValues)),'','',''], color='#777777')\n",
    "        return ax;\n",
    "    \n",
    "    else: # plot stacked bars, then return    \n",
    "        values1 = list(plotdf.Rail)\n",
    "        values2 = list(plotdf.Bus)\n",
    "        values3 = list(plotdf.UBahn)\n",
    "        values4 = list(plotdf.Tram)\n",
    "        values01 = np.add(values0, values1).tolist()\n",
    "        values012 = np.add(values01, values2).tolist()\n",
    "        values0123 = np.add(values012, values3).tolist()\n",
    "        values01234 = np.add(values0123, values4).tolist()\n",
    "\n",
    "        maxAll = max(values01234) if values01234 else 0\n",
    "\n",
    "        ax.bar(weekangles, values0, width=width, alpha=alpha, color=modesColor['privat'])   \n",
    "        ax.bar(weekangles, values1, width=width, alpha=alpha, color=modesColor['Rail'], bottom = values0)\n",
    "        ax.bar(weekangles, values2, width=width, alpha=alpha, color=modesColor['Bus'], bottom = values01)\n",
    "        ax.bar(weekangles, values3, width=width, alpha=alpha, color=modesColor['UBahn'], bottom = values012)\n",
    "        ax.bar(weekangles, values4, width=width, alpha=alpha, color=modesColor['Tram'], bottom = values0123)\n",
    "\n",
    "        ax.add_artist(plt.Circle((0, 0), maxAll, transform=ax.transData._b,\n",
    "                             fill=False, edgecolor=modesColor['Tram'], linewidth=1, alpha=1, zorder=10))\n",
    "        ax.set_yticks([maxAll, .75*maxAll, .5*maxAll, .25*maxAll, ])\n",
    "        if (maxAll>1000):\n",
    "            ax.set_yticklabels([str(np.round(maxAll/1000,decimals=1))+' Tsd','','',''], color=modesColor['Tram'])\n",
    "        else:\n",
    "            ax.set_yticklabels([str(np.int(maxAll)),'','',''], color=modesColor['Tram'])\n",
    "    return ax;"
   ]
  },
  {
   "cell_type": "code",
   "execution_count": 10,
   "metadata": {},
   "outputs": [
    {
     "data": {
      "application/vnd.jupyter.widget-view+json": {
       "model_id": "8f5d5be0913c44d3bebd75872736ab27",
       "version_major": 2,
       "version_minor": 0
      },
      "text/plain": [
       "interactive(children=(Dropdown(description='modesPlt', options=('', 'privat', 'public'), value=''), Output()),…"
      ]
     },
     "metadata": {},
     "output_type": "display_data"
    },
    {
     "data": {
      "text/plain": [
       "<function __main__.plotWeek(modesPlt='')>"
      ]
     },
     "execution_count": 10,
     "metadata": {},
     "output_type": "execute_result"
    }
   ],
   "source": [
    "pyw.interact(plotWeek, modesPlt=modesPlt)"
   ]
  },
  {
   "cell_type": "markdown",
   "metadata": {},
   "source": [
    "## heatmap for the week"
   ]
  },
  {
   "cell_type": "code",
   "execution_count": 6,
   "metadata": {},
   "outputs": [],
   "source": [
    "import seaborn as sns"
   ]
  },
  {
   "cell_type": "code",
   "execution_count": 12,
   "metadata": {},
   "outputs": [],
   "source": [
    "def heatmap():\n",
    "    #colors = sns.light_palette(modesColor[mode], as_cmap=True)\n",
    "    pivot = cycledf.groupby(['dayInt','hour']).agg('sum').copy().reset_index()\n",
    "    pivot.columns = pivot.columns.get_level_values(0)\n",
    "    fig = plt.figure(figsize=(15,25))\n",
    "    for k in range(0,7):\n",
    "        mode = modes[k]\n",
    "        colors = sns.light_palette(modesColor[mode], as_cmap=True)\n",
    "        #colors = sns.dark_palette(modesColor[mode], as_cmap=True)\n",
    "        modepivot = pivot.pivot(index='dayInt', columns='hour', values=mode)\n",
    "        ax = fig.add_subplot(711+k)\n",
    "        ax = sns.heatmap(modepivot, annot=False, fmt=\"g\", cmap=colors, square=True)\n",
    "        ax.tick_params(axis='both', which='major', labelsize=10, labelbottom = False, left=False, bottom=False, top = False, labeltop=True, color='#777777')\n",
    "        ax.set(xticklabels=[], yticklabels=[])\n",
    "        ax.set(xlabel='00:00                                      \\u27F6                                      12:00                                      \\u27F6                                      24:00',\n",
    "               ylabel='Sunday            \\u27F5            Monday')\n",
    "    return ax;"
   ]
  },
  {
   "cell_type": "code",
   "execution_count": 13,
   "metadata": {},
   "outputs": [
    {
     "data": {
      "text/plain": [
       "<matplotlib.axes._subplots.AxesSubplot at 0x219c1f5fba8>"
      ]
     },
     "execution_count": 13,
     "metadata": {},
     "output_type": "execute_result"
    },
    {
     "data": {
      "image/png": "[encoded data removed]",
      "text/plain": [
       "<Figure size 1080x1800 with 14 Axes>"
      ]
     },
     "metadata": {
      "needs_background": "light"
     },
     "output_type": "display_data"
    }
   ],
   "source": [
    "heatmap()"
   ]
  }
 ],
 "metadata": {
  "kernelspec": {
   "display_name": "Python 3",
   "language": "python",
   "name": "python3"
  },
  "language_info": {
   "codemirror_mode": {
    "name": "ipython",
    "version": 3
   },
   "file_extension": ".py",
   "mimetype": "text/x-python",
   "name": "python",
   "nbconvert_exporter": "python",
   "pygments_lexer": "ipython3",
   "version": "3.7.3"
  }
 },
 "nbformat": 4,
 "nbformat_minor": 4
}
